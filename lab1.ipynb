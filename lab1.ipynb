{
 "cells": [
  {
   "cell_type": "code",
   "execution_count": 26,
   "id": "db73394e-4cab-4f73-9288-9ecad370b49f",
   "metadata": {},
   "outputs": [
    {
     "name": "stdout",
     "output_type": "stream",
     "text": [
      "Requirement already satisfied: pint in c:\\users\\natal\\appdata\\local\\programs\\python\\python313\\lib\\site-packages (0.25)\n",
      "Requirement already satisfied: flexcache>=0.3 in c:\\users\\natal\\appdata\\local\\programs\\python\\python313\\lib\\site-packages (from pint) (0.3)\n",
      "Requirement already satisfied: flexparser>=0.4 in c:\\users\\natal\\appdata\\local\\programs\\python\\python313\\lib\\site-packages (from pint) (0.4)\n",
      "Requirement already satisfied: platformdirs>=2.1.0 in c:\\users\\natal\\appdata\\local\\programs\\python\\python313\\lib\\site-packages (from pint) (4.5.0)\n",
      "Requirement already satisfied: typing-extensions>=4.0.0 in c:\\users\\natal\\appdata\\local\\programs\\python\\python313\\lib\\site-packages (from pint) (4.15.0)\n"
     ]
    },
    {
     "name": "stderr",
     "output_type": "stream",
     "text": [
      "\n",
      "[notice] A new release of pip is available: 25.2 -> 25.3\n",
      "[notice] To update, run: python.exe -m pip install --upgrade pip\n",
      "\n",
      "[notice] A new release of pip is available: 25.2 -> 25.3\n",
      "[notice] To update, run: python.exe -m pip install --upgrade pip\n"
     ]
    },
    {
     "name": "stdout",
     "output_type": "stream",
     "text": [
      "Collecting open_atmos_jupyter_utils\n",
      "  Downloading open_atmos_jupyter_utils-1.3.0-py3-none-any.whl.metadata (5.7 kB)\n",
      "Requirement already satisfied: ipywidgets in c:\\users\\natal\\appdata\\local\\programs\\python\\python313\\lib\\site-packages (from open_atmos_jupyter_utils) (8.1.7)\n",
      "Requirement already satisfied: IPython in c:\\users\\natal\\appdata\\local\\programs\\python\\python313\\lib\\site-packages (from open_atmos_jupyter_utils) (9.6.0)\n",
      "Requirement already satisfied: matplotlib in c:\\users\\natal\\appdata\\local\\programs\\python\\python313\\lib\\site-packages (from open_atmos_jupyter_utils) (3.10.7)\n",
      "Collecting imageio (from open_atmos_jupyter_utils)\n",
      "  Downloading imageio-2.37.0-py3-none-any.whl.metadata (5.2 kB)\n",
      "Requirement already satisfied: nbformat in c:\\users\\natal\\appdata\\local\\programs\\python\\python313\\lib\\site-packages (from open_atmos_jupyter_utils) (5.10.4)\n",
      "Requirement already satisfied: numpy in c:\\users\\natal\\appdata\\local\\programs\\python\\python313\\lib\\site-packages (from imageio->open_atmos_jupyter_utils) (2.3.4)\n",
      "Requirement already satisfied: pillow>=8.3.2 in c:\\users\\natal\\appdata\\local\\programs\\python\\python313\\lib\\site-packages (from imageio->open_atmos_jupyter_utils) (12.0.0)\n",
      "Requirement already satisfied: colorama in c:\\users\\natal\\appdata\\local\\programs\\python\\python313\\lib\\site-packages (from IPython->open_atmos_jupyter_utils) (0.4.6)\n",
      "Requirement already satisfied: decorator in c:\\users\\natal\\appdata\\local\\programs\\python\\python313\\lib\\site-packages (from IPython->open_atmos_jupyter_utils) (5.2.1)\n",
      "Requirement already satisfied: ipython-pygments-lexers in c:\\users\\natal\\appdata\\local\\programs\\python\\python313\\lib\\site-packages (from IPython->open_atmos_jupyter_utils) (1.1.1)\n",
      "Requirement already satisfied: jedi>=0.16 in c:\\users\\natal\\appdata\\local\\programs\\python\\python313\\lib\\site-packages (from IPython->open_atmos_jupyter_utils) (0.19.2)\n",
      "Requirement already satisfied: matplotlib-inline in c:\\users\\natal\\appdata\\local\\programs\\python\\python313\\lib\\site-packages (from IPython->open_atmos_jupyter_utils) (0.2.1)\n",
      "Requirement already satisfied: prompt_toolkit<3.1.0,>=3.0.41 in c:\\users\\natal\\appdata\\local\\programs\\python\\python313\\lib\\site-packages (from IPython->open_atmos_jupyter_utils) (3.0.52)\n",
      "Requirement already satisfied: pygments>=2.4.0 in c:\\users\\natal\\appdata\\local\\programs\\python\\python313\\lib\\site-packages (from IPython->open_atmos_jupyter_utils) (2.19.2)\n",
      "Requirement already satisfied: stack_data in c:\\users\\natal\\appdata\\local\\programs\\python\\python313\\lib\\site-packages (from IPython->open_atmos_jupyter_utils) (0.6.3)\n",
      "Requirement already satisfied: traitlets>=5.13.0 in c:\\users\\natal\\appdata\\local\\programs\\python\\python313\\lib\\site-packages (from IPython->open_atmos_jupyter_utils) (5.14.3)\n",
      "Requirement already satisfied: wcwidth in c:\\users\\natal\\appdata\\local\\programs\\python\\python313\\lib\\site-packages (from prompt_toolkit<3.1.0,>=3.0.41->IPython->open_atmos_jupyter_utils) (0.2.14)\n",
      "Requirement already satisfied: parso<0.9.0,>=0.8.4 in c:\\users\\natal\\appdata\\local\\programs\\python\\python313\\lib\\site-packages (from jedi>=0.16->IPython->open_atmos_jupyter_utils) (0.8.5)\n",
      "Requirement already satisfied: comm>=0.1.3 in c:\\users\\natal\\appdata\\local\\programs\\python\\python313\\lib\\site-packages (from ipywidgets->open_atmos_jupyter_utils) (0.2.3)\n",
      "Requirement already satisfied: widgetsnbextension~=4.0.14 in c:\\users\\natal\\appdata\\local\\programs\\python\\python313\\lib\\site-packages (from ipywidgets->open_atmos_jupyter_utils) (4.0.14)\n",
      "Requirement already satisfied: jupyterlab_widgets~=3.0.15 in c:\\users\\natal\\appdata\\local\\programs\\python\\python313\\lib\\site-packages (from ipywidgets->open_atmos_jupyter_utils) (3.0.15)\n",
      "Requirement already satisfied: contourpy>=1.0.1 in c:\\users\\natal\\appdata\\local\\programs\\python\\python313\\lib\\site-packages (from matplotlib->open_atmos_jupyter_utils) (1.3.3)\n",
      "Requirement already satisfied: cycler>=0.10 in c:\\users\\natal\\appdata\\local\\programs\\python\\python313\\lib\\site-packages (from matplotlib->open_atmos_jupyter_utils) (0.12.1)\n",
      "Requirement already satisfied: fonttools>=4.22.0 in c:\\users\\natal\\appdata\\local\\programs\\python\\python313\\lib\\site-packages (from matplotlib->open_atmos_jupyter_utils) (4.60.1)\n",
      "Requirement already satisfied: kiwisolver>=1.3.1 in c:\\users\\natal\\appdata\\local\\programs\\python\\python313\\lib\\site-packages (from matplotlib->open_atmos_jupyter_utils) (1.4.9)\n",
      "Requirement already satisfied: packaging>=20.0 in c:\\users\\natal\\appdata\\local\\programs\\python\\python313\\lib\\site-packages (from matplotlib->open_atmos_jupyter_utils) (25.0)\n",
      "Requirement already satisfied: pyparsing>=3 in c:\\users\\natal\\appdata\\local\\programs\\python\\python313\\lib\\site-packages (from matplotlib->open_atmos_jupyter_utils) (3.2.5)\n",
      "Requirement already satisfied: python-dateutil>=2.7 in c:\\users\\natal\\appdata\\local\\programs\\python\\python313\\lib\\site-packages (from matplotlib->open_atmos_jupyter_utils) (2.9.0.post0)\n",
      "Requirement already satisfied: six>=1.5 in c:\\users\\natal\\appdata\\local\\programs\\python\\python313\\lib\\site-packages (from python-dateutil>=2.7->matplotlib->open_atmos_jupyter_utils) (1.17.0)\n",
      "Requirement already satisfied: fastjsonschema>=2.15 in c:\\users\\natal\\appdata\\local\\programs\\python\\python313\\lib\\site-packages (from nbformat->open_atmos_jupyter_utils) (2.21.2)\n",
      "Requirement already satisfied: jsonschema>=2.6 in c:\\users\\natal\\appdata\\local\\programs\\python\\python313\\lib\\site-packages (from nbformat->open_atmos_jupyter_utils) (4.25.1)\n",
      "Requirement already satisfied: jupyter-core!=5.0.*,>=4.12 in c:\\users\\natal\\appdata\\local\\programs\\python\\python313\\lib\\site-packages (from nbformat->open_atmos_jupyter_utils) (5.9.1)\n",
      "Requirement already satisfied: attrs>=22.2.0 in c:\\users\\natal\\appdata\\local\\programs\\python\\python313\\lib\\site-packages (from jsonschema>=2.6->nbformat->open_atmos_jupyter_utils) (25.4.0)\n",
      "Requirement already satisfied: jsonschema-specifications>=2023.03.6 in c:\\users\\natal\\appdata\\local\\programs\\python\\python313\\lib\\site-packages (from jsonschema>=2.6->nbformat->open_atmos_jupyter_utils) (2025.9.1)\n",
      "Requirement already satisfied: referencing>=0.28.4 in c:\\users\\natal\\appdata\\local\\programs\\python\\python313\\lib\\site-packages (from jsonschema>=2.6->nbformat->open_atmos_jupyter_utils) (0.37.0)\n",
      "Requirement already satisfied: rpds-py>=0.7.1 in c:\\users\\natal\\appdata\\local\\programs\\python\\python313\\lib\\site-packages (from jsonschema>=2.6->nbformat->open_atmos_jupyter_utils) (0.28.0)\n",
      "Requirement already satisfied: platformdirs>=2.5 in c:\\users\\natal\\appdata\\local\\programs\\python\\python313\\lib\\site-packages (from jupyter-core!=5.0.*,>=4.12->nbformat->open_atmos_jupyter_utils) (4.5.0)\n",
      "Requirement already satisfied: executing>=1.2.0 in c:\\users\\natal\\appdata\\local\\programs\\python\\python313\\lib\\site-packages (from stack_data->IPython->open_atmos_jupyter_utils) (2.2.1)\n",
      "Requirement already satisfied: asttokens>=2.1.0 in c:\\users\\natal\\appdata\\local\\programs\\python\\python313\\lib\\site-packages (from stack_data->IPython->open_atmos_jupyter_utils) (3.0.0)\n",
      "Requirement already satisfied: pure-eval in c:\\users\\natal\\appdata\\local\\programs\\python\\python313\\lib\\site-packages (from stack_data->IPython->open_atmos_jupyter_utils) (0.2.3)\n",
      "Downloading open_atmos_jupyter_utils-1.3.0-py3-none-any.whl (19 kB)\n",
      "Downloading imageio-2.37.0-py3-none-any.whl (315 kB)\n",
      "Installing collected packages: imageio, open_atmos_jupyter_utils\n",
      "\n",
      "   ---------------------------------------- 0/2 [imageio]\n",
      "   ---------------------------------------- 0/2 [imageio]\n",
      "   ---------------------------------------- 0/2 [imageio]\n",
      "   ---------------------------------------- 0/2 [imageio]\n",
      "   ---------------------------------------- 2/2 [open_atmos_jupyter_utils]\n",
      "\n",
      "Successfully installed imageio-2.37.0 open_atmos_jupyter_utils-1.3.0\n"
     ]
    }
   ],
   "source": [
    "!pip install pint\n",
    "!pip install open_atmos_jupyter_utils\n",
    "import pint\n",
    "import matplotlib.pyplot as plt \n",
    "import numpy as np\n",
    "from open_atmos_jupyter_utils import show_plot\n",
    "si=pint.UnitRegistry()"
   ]
  },
  {
   "cell_type": "code",
   "execution_count": 27,
   "id": "d4e673f6-3ab9-4f5a-af43-ef866560328c",
   "metadata": {},
   "outputs": [
    {
     "data": {
      "text/html": [
       "2.000003 kilogram"
      ],
      "text/latex": [
       "$2.000003\\ \\mathrm{kilogram}$"
      ],
      "text/plain": [
       "<Quantity(2.000003, 'kilogram')>"
      ]
     },
     "execution_count": 27,
     "metadata": {},
     "output_type": "execute_result"
    }
   ],
   "source": [
    "2*si.kg+3*si.mg"
   ]
  },
  {
   "cell_type": "code",
   "execution_count": 28,
   "id": "2ce1b1f4-72c6-4eb0-936d-160e9b48ee51",
   "metadata": {},
   "outputs": [
    {
     "name": "stdout",
     "output_type": "stream",
     "text": [
      "Requirement already satisfied: scipy in c:\\users\\natal\\appdata\\local\\programs\\python\\python313\\lib\\site-packages (1.16.2)\n",
      "Requirement already satisfied: numpy<2.6,>=1.25.2 in c:\\users\\natal\\appdata\\local\\programs\\python\\python313\\lib\\site-packages (from scipy) (2.3.4)\n"
     ]
    },
    {
     "name": "stderr",
     "output_type": "stream",
     "text": [
      "\n",
      "[notice] A new release of pip is available: 25.2 -> 25.3\n",
      "[notice] To update, run: python.exe -m pip install --upgrade pip\n"
     ]
    }
   ],
   "source": [
    "!pip install scipy\n",
    "from scipy import constants\n",
    "def rho(p,T):\n",
    "    R=constants.R*si.J/si.K/si.mol\n",
    "    md=28.966*si.kg*si.kmol**(-1)\n",
    "    return p/R/T"
   ]
  },
  {
   "cell_type": "code",
   "execution_count": 29,
   "id": "455bc7f6-607f-467d-a66a-dab49d567695",
   "metadata": {},
   "outputs": [
    {
     "data": {
      "text/html": [
       "40.090785014242016 mole/meter<sup>3</sup>"
      ],
      "text/latex": [
       "$40.090785014242016\\ \\frac{\\mathrm{mole}}{\\mathrm{meter}^{3}}$"
      ],
      "text/plain": [
       "<Quantity(40.090785, 'mole / meter ** 3')>"
      ]
     },
     "execution_count": 29,
     "metadata": {},
     "output_type": "execute_result"
    }
   ],
   "source": [
    "rho(1000*si.hPa,300*si.K).to_base_units()"
   ]
  },
  {
   "cell_type": "code",
   "execution_count": 30,
   "id": "e6990a7f-4814-4d01-b111-0323b805ce89",
   "metadata": {},
   "outputs": [],
   "source": [
    "si.setup_matplotlib()"
   ]
  },
  {
   "cell_type": "code",
   "execution_count": 31,
   "id": "b5583074-c051-4c7b-8abb-cf27b757263f",
   "metadata": {},
   "outputs": [
    {
     "data": {
      "image/png": "[encoded data removed]",
      "text/plain": [
       "<Figure size 640x480 with 1 Axes>"
      ]
     },
     "metadata": {},
     "output_type": "display_data"
    }
   ],
   "source": [
    "plt.plot(T:=np.linspace(280,320)*si.K, rho(1000*si.hPa,T), label=\"gęstość powietrza\")\n",
    "plt.gca().xaxis.set_units(si.celsius)\n",
    "plt.grid()\n",
    "plt.legend()\n",
    "plt.show()\n"
   ]
  },
  {
   "cell_type": "code",
   "execution_count": 33,
   "id": "f4d0a745-b219-4d9b-949c-1facb9167058",
   "metadata": {},
   "outputs": [
    {
     "data": {
      "text/plain": [
       "<Figure size 640x480 with 0 Axes>"
      ]
     },
     "metadata": {},
     "output_type": "display_data"
    },
    {
     "data": {
      "application/vnd.jupyter.widget-view+json": {
       "model_id": "ca866b5e3b7c46bd90e509e60eb60eee",
       "version_major": 2,
       "version_minor": 0
      },
      "text/plain": [
       "HBox(children=(HTML(value=\"<a href='.\\\\tmplncrdlyd.pdf' target='_blank'>.\\\\tmplncrdlyd.pdf</a><br>\"), HTML(val…"
      ]
     },
     "metadata": {},
     "output_type": "display_data"
    }
   ],
   "source": [
    "show_plot()"
   ]
  },
  {
   "cell_type": "code",
   "execution_count": null,
   "id": "a183e884-4867-48bd-a722-bfdc149c2415",
   "metadata": {},
   "outputs": [],
   "source": []
  },
  {
   "cell_type": "code",
   "execution_count": null,
   "id": "bd71adfb-23be-426c-b860-d58bf966e8dc",
   "metadata": {},
   "outputs": [],
   "source": []
  }
 ],
 "metadata": {
  "kernelspec": {
   "display_name": "Python 3 (ipykernel)",
   "language": "python",
   "name": "python3"
  },
  "language_info": {
   "codemirror_mode": {
    "name": "ipython",
    "version": 3
   },
   "file_extension": ".py",
   "mimetype": "text/x-python",
   "name": "python",
   "nbconvert_exporter": "python",
   "pygments_lexer": "ipython3",
   "version": "3.13.9"
  }
 },
 "nbformat": 4,
 "nbformat_minor": 5
}
